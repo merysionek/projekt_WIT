{
 "cells": [
  {
   "cell_type": "markdown",
   "metadata": {},
   "source": [
    "https://www.kaggle.com/c/house-prices-advanced-regression-techniques\n",
    "\n",
    "**IMPORTING DATASETS**"
   ]
  },
  {
   "cell_type": "code",
   "execution_count": 47,
   "metadata": {},
   "outputs": [],
   "source": [
    "import pandas as pd\n",
    "import numpy as np\n",
    "df = pd.read_csv('train.csv')\n",
    "###test = pd.read_csv('test.csv')  - I am not using it- as it does not contain 'SalePrice' information\n",
    "#print(df.head())\n",
    "\n",
    "X=df.drop(['SalePrice','Id'],axis=1)\n",
    "y=df.loc[:,'SalePrice']"
   ]
  },
  {
   "cell_type": "markdown",
   "metadata": {},
   "source": [
    "**INITIAL DATA PREPARATION**"
   ]
  },
  {
   "cell_type": "code",
   "execution_count": 48,
   "metadata": {},
   "outputs": [
    {
     "name": "stdout",
     "output_type": "stream",
     "text": [
      "DATA TYPES\n",
      "\n",
      " Id                 int64\n",
      "MSSubClass         int64\n",
      "MSZoning          object\n",
      "LotFrontage      float64\n",
      "LotArea            int64\n",
      "                  ...   \n",
      "MoSold             int64\n",
      "YrSold             int64\n",
      "SaleType          object\n",
      "SaleCondition     object\n",
      "SalePrice          int64\n",
      "Length: 81, dtype: object\n",
      "\n",
      "\n",
      "DESCRIPTIVE STATISTICS\n",
      "\n",
      "                 Id   MSSubClass  LotFrontage        LotArea  OverallQual  \\\n",
      "count  1460.000000  1460.000000  1201.000000    1460.000000  1460.000000   \n",
      "mean    730.500000    56.897260    70.049958   10516.828082     6.099315   \n",
      "std     421.610009    42.300571    24.284752    9981.264932     1.382997   \n",
      "min       1.000000    20.000000    21.000000    1300.000000     1.000000   \n",
      "25%     365.750000    20.000000    59.000000    7553.500000     5.000000   \n",
      "50%     730.500000    50.000000    69.000000    9478.500000     6.000000   \n",
      "75%    1095.250000    70.000000    80.000000   11601.500000     7.000000   \n",
      "max    1460.000000   190.000000   313.000000  215245.000000    10.000000   \n",
      "\n",
      "       OverallCond    YearBuilt  YearRemodAdd   MasVnrArea   BsmtFinSF1  ...  \\\n",
      "count  1460.000000  1460.000000   1460.000000  1452.000000  1460.000000  ...   \n",
      "mean      5.575342  1971.267808   1984.865753   103.685262   443.639726  ...   \n",
      "std       1.112799    30.202904     20.645407   181.066207   456.098091  ...   \n",
      "min       1.000000  1872.000000   1950.000000     0.000000     0.000000  ...   \n",
      "25%       5.000000  1954.000000   1967.000000     0.000000     0.000000  ...   \n",
      "50%       5.000000  1973.000000   1994.000000     0.000000   383.500000  ...   \n",
      "75%       6.000000  2000.000000   2004.000000   166.000000   712.250000  ...   \n",
      "max       9.000000  2010.000000   2010.000000  1600.000000  5644.000000  ...   \n",
      "\n",
      "        WoodDeckSF  OpenPorchSF  EnclosedPorch    3SsnPorch  ScreenPorch  \\\n",
      "count  1460.000000  1460.000000    1460.000000  1460.000000  1460.000000   \n",
      "mean     94.244521    46.660274      21.954110     3.409589    15.060959   \n",
      "std     125.338794    66.256028      61.119149    29.317331    55.757415   \n",
      "min       0.000000     0.000000       0.000000     0.000000     0.000000   \n",
      "25%       0.000000     0.000000       0.000000     0.000000     0.000000   \n",
      "50%       0.000000    25.000000       0.000000     0.000000     0.000000   \n",
      "75%     168.000000    68.000000       0.000000     0.000000     0.000000   \n",
      "max     857.000000   547.000000     552.000000   508.000000   480.000000   \n",
      "\n",
      "          PoolArea       MiscVal       MoSold       YrSold      SalePrice  \n",
      "count  1460.000000   1460.000000  1460.000000  1460.000000    1460.000000  \n",
      "mean      2.758904     43.489041     6.321918  2007.815753  180921.195890  \n",
      "std      40.177307    496.123024     2.703626     1.328095   79442.502883  \n",
      "min       0.000000      0.000000     1.000000  2006.000000   34900.000000  \n",
      "25%       0.000000      0.000000     5.000000  2007.000000  129975.000000  \n",
      "50%       0.000000      0.000000     6.000000  2008.000000  163000.000000  \n",
      "75%       0.000000      0.000000     8.000000  2009.000000  214000.000000  \n",
      "max     738.000000  15500.000000    12.000000  2010.000000  755000.000000  \n",
      "\n",
      "[8 rows x 38 columns]\n",
      "\n",
      "\n",
      "% OF MISSIN VALUES (SORTED)\n",
      "\n",
      " PoolQC           0.995205\n",
      "MiscFeature      0.963014\n",
      "Alley            0.937671\n",
      "Fence            0.807534\n",
      "FireplaceQu      0.472603\n",
      "                   ...   \n",
      "CentralAir       0.000000\n",
      "SaleCondition    0.000000\n",
      "Heating          0.000000\n",
      "TotalBsmtSF      0.000000\n",
      "Id               0.000000\n",
      "Length: 81, dtype: float64\n"
     ]
    }
   ],
   "source": [
    "#checking data types\n",
    "print(\"DATA TYPES\\n\\n\",df.dtypes)\n",
    "\n",
    "opisowe=df.describe()\n",
    "print(\"\\n\\nDESCRIPTIVE STATISTICS\\n\\n\",opisowe)\n",
    "\n",
    "#checking for missing values in columns\n",
    "missing=df.isnull().sum().sort_values(ascending=False)\n",
    "missing_percent=missing/df.shape[0]\n",
    "print(\"\\n\\n% OF MISSIN VALUES (SORTED)\\n\\n\", missing_percent)"
   ]
  },
  {
   "cell_type": "markdown",
   "metadata": {},
   "source": [
    "In predictors PoolQC, MiscFeature, Alley,Fence,FireplaceQu - missing values mean that the feature is not present (i.e. there is no basement) so I decided to leave predictors even with many missing values in the dataset and change NaN to some numeric value.\n",
    "\n",
    "\n",
    "Many predictors are categorical or nominal - so I am changing their labels to numeric"
   ]
  },
  {
   "cell_type": "code",
   "execution_count": 3,
   "metadata": {},
   "outputs": [
    {
     "name": "stderr",
     "output_type": "stream",
     "text": [
      "<ipython-input-3-defea457b854>:7: SettingWithCopyWarning: \n",
      "A value is trying to be set on a copy of a slice from a DataFrame\n",
      "\n",
      "See the caveats in the documentation: https://pandas.pydata.org/pandas-docs/stable/user_guide/indexing.html#returning-a-view-versus-a-copy\n",
      "  x.iloc[:,i][pd.isnull(x.iloc[:,i])]  = 'NaN'\n"
     ]
    }
   ],
   "source": [
    "from sklearn.preprocessing import LabelEncoder\n",
    "\n",
    "def my_encoding(x):\n",
    "    le = LabelEncoder()\n",
    "    for i in range(x.shape[1]):        \n",
    "        if (x.iloc[:,i].dtypes.name=='object'):\n",
    "            x.iloc[:,i][pd.isnull(x.iloc[:,i])]  = 'NaN'\n",
    "            x.iloc[:, i]=le.fit_transform(x.iloc[:, i])\n",
    "    return(x)\n",
    "\n",
    "X = my_encoding(X)\n",
    "#X_test = my_encoding(X_test)\n",
    "\n",
    "#print(X_train.head())\n"
   ]
  },
  {
   "cell_type": "markdown",
   "metadata": {},
   "source": [
    "I am standardizing the rest of predictors"
   ]
  },
  {
   "cell_type": "code",
   "execution_count": 4,
   "metadata": {},
   "outputs": [
    {
     "name": "stdout",
     "output_type": "stream",
     "text": [
      "   MSSubClass  MSZoning  LotFrontage   LotArea  Street  Alley  LotShape  \\\n",
      "0    0.073375         3    -0.208034 -0.207142       1      1         3   \n",
      "1   -0.872563         3     0.409895 -0.091886       1      1         3   \n",
      "2    0.073375         3    -0.084449  0.073480       1      1         0   \n",
      "3    0.309859         3    -0.414011 -0.096897       1      1         0   \n",
      "4    0.073375         3     0.574676  0.375148       1      1         0   \n",
      "\n",
      "   LandContour  Utilities  LotConfig  ...  ScreenPorch  PoolArea  PoolQC  \\\n",
      "0            3          0          4  ...    -0.270208 -0.068692       3   \n",
      "1            3          0          2  ...    -0.270208 -0.068692       3   \n",
      "2            3          0          4  ...    -0.270208 -0.068692       3   \n",
      "3            3          0          0  ...    -0.270208 -0.068692       3   \n",
      "4            3          0          2  ...    -0.270208 -0.068692       3   \n",
      "\n",
      "   Fence  MiscFeature   MiscVal    MoSold    YrSold  SaleType  SaleCondition  \n",
      "0      4            1 -0.087688 -1.599111  0.138777         8              4  \n",
      "1      4            1 -0.087688 -0.489110 -0.614439         8              4  \n",
      "2      4            1 -0.087688  0.990891  0.138777         8              4  \n",
      "3      4            1 -0.087688 -1.599111 -1.367655         8              0  \n",
      "4      4            1 -0.087688  2.100892  0.138777         8              4  \n",
      "\n",
      "[5 rows x 79 columns]\n"
     ]
    }
   ],
   "source": [
    "from sklearn import preprocessing\n",
    "\n",
    "def my_standardization(x):\n",
    "    for i in range(x.shape[1]):        \n",
    "        if (x.iloc[:,i].dtypes.name=='float64' or x.iloc[:,i].dtypes.name=='int64'):            \n",
    "            x.iloc[:, i]=preprocessing.scale(x.iloc[:, i])\n",
    "    return(x)\n",
    "\n",
    "\n",
    "X=my_standardization(X)\n",
    "print(X.head())\n"
   ]
  },
  {
   "cell_type": "markdown",
   "metadata": {},
   "source": [
    "Because the testing dataset does not contain prices (and I am not submitting the kaeggle project), \n",
    "I decided to split the initial training dataset into training (80%) and testin (20%) subsets. "
   ]
  },
  {
   "cell_type": "code",
   "execution_count": 5,
   "metadata": {},
   "outputs": [
    {
     "name": "stdout",
     "output_type": "stream",
     "text": [
      "X_train.shape (1168, 79)\n",
      "y_train.shape (1168,)\n",
      "X_test.shape (292, 79)\n",
      "y_test.shape (292,)\n"
     ]
    }
   ],
   "source": [
    "from sklearn.model_selection import train_test_split\n",
    "\n",
    "\n",
    "#X=df.drop(['SalePrice','Id'],axis=1)\n",
    "#y=df.loc[:,'SalePrice']\n",
    "#print(X.head())\n",
    "#print(y.head())\n",
    "\n",
    "features0=X.columns\n",
    "X_train,X_test,y_train,y_test=train_test_split(X,y,test_size=0.2)\n",
    "print(\"X_train.shape\",X_train.shape)\n",
    "print(\"y_train.shape\",y_train.shape)\n",
    "print(\"X_test.shape\",X_test.shape)\n",
    "print(\"y_test.shape\",y_test.shape)\n"
   ]
  },
  {
   "cell_type": "markdown",
   "metadata": {},
   "source": [
    "**FIRST MODEL**\n",
    "\n",
    "using all  possible predictors and default model settings"
   ]
  },
  {
   "cell_type": "code",
   "execution_count": 6,
   "metadata": {},
   "outputs": [
    {
     "name": "stdout",
     "output_type": "stream",
     "text": [
      "R-squared model1 (training): 0.980546824463424\n"
     ]
    }
   ],
   "source": [
    "from numpy import mean\n",
    "from numpy import std\n",
    "from sklearn.datasets import make_regression\n",
    "from sklearn.model_selection import cross_val_score\n",
    "from sklearn.model_selection import RepeatedKFold\n",
    "from sklearn.ensemble import RandomForestRegressor\n",
    "\n",
    "X_train= np.nan_to_num(X_train) \n",
    "y_train=y_train\n",
    "model1 = RandomForestRegressor()\n",
    "model1.fit(X_train, y_train)\n",
    "\n",
    "#checking R square\n",
    "Rsq1 = model1.score(X_train,y_train)\n",
    "print(\"R-squared model1 (training):\", Rsq1)\n"
   ]
  },
  {
   "cell_type": "markdown",
   "metadata": {},
   "source": [
    "checking the importance of predictors"
   ]
  },
  {
   "cell_type": "code",
   "execution_count": 7,
   "metadata": {},
   "outputs": [
    {
     "name": "stdout",
     "output_type": "stream",
     "text": [
      "              importance\n",
      "feature                 \n",
      "OverallQual        0.599\n",
      "GrLivArea          0.099\n",
      "TotalBsmtSF        0.040\n",
      "2ndFlrSF           0.037\n",
      "BsmtFinSF1         0.031\n",
      "...                  ...\n",
      "BsmtFinType2       0.000\n",
      "BsmtFinSF2         0.000\n",
      "Heating            0.000\n",
      "BsmtHalfBath       0.000\n",
      "BldgType           0.000\n",
      "\n",
      "[79 rows x 1 columns]\n"
     ]
    }
   ],
   "source": [
    "importance = pd.DataFrame({'feature':features0,'importance':np.round(model1.feature_importances_,3)})\n",
    "importance = importance.sort_values('importance',ascending=False).set_index('feature')\n",
    "print(importance)"
   ]
  },
  {
   "cell_type": "code",
   "execution_count": 49,
   "metadata": {},
   "outputs": [
    {
     "name": "stdout",
     "output_type": "stream",
     "text": [
      "             importance\n",
      "feature                \n",
      "OverallQual       0.599\n",
      "GrLivArea         0.099\n",
      "TotalBsmtSF       0.040\n",
      "2ndFlrSF          0.037\n",
      "BsmtFinSF1        0.031\n",
      "1stFlrSF          0.021\n",
      "GarageArea        0.016\n",
      "LotArea           0.015\n",
      "BsmtQual          0.012\n"
     ]
    }
   ],
   "source": [
    "#selecting only features with importance greater than 0,01\n",
    "features2=importance.loc[importance['importance']>0.01]\n",
    "print(features2) "
   ]
  },
  {
   "cell_type": "markdown",
   "metadata": {},
   "source": [
    "**SECOND MODEL**\n",
    "leaving only important features (from previous step)"
   ]
  },
  {
   "cell_type": "code",
   "execution_count": 14,
   "metadata": {},
   "outputs": [
    {
     "name": "stdout",
     "output_type": "stream",
     "text": [
      "R-squared model1 (training): 0.9789264024660347\n"
     ]
    }
   ],
   "source": [
    "#selecting only new features\n",
    "features0=list(features0)\n",
    "features2=list(features2.index)\n",
    "\n",
    "N=[]#indices of new features\n",
    "for i in features2:\n",
    "    N.append(features0.index(i))\n",
    "\n",
    "X_train2=X_train[:,N]\n",
    "y_train2=y_train\n",
    "\n",
    "model2 = RandomForestRegressor()\n",
    "model2.fit(X_train2, y_train2)\n",
    "\n",
    "#checking R square\n",
    "Rsq2 = model2.score(X_train2,y_train2)\n",
    "print(\"R-squared model2 (training):\", Rsq2)\n"
   ]
  },
  {
   "cell_type": "markdown",
   "metadata": {},
   "source": [
    "**CHECKING MODEL 2 ON TESTING DATASET**"
   ]
  },
  {
   "cell_type": "code",
   "execution_count": 17,
   "metadata": {},
   "outputs": [
    {
     "name": "stdout",
     "output_type": "stream",
     "text": [
      "R-squared model2 (testing): 0.8210902762990135\n"
     ]
    }
   ],
   "source": [
    "X_test2=X_test.values[:,N]\n",
    "y_test2=y_test\n",
    "Rsq = model2.score(X_test2,y_test2)\n",
    "print(\"R-squared model2 (testing):\", Rsq)\n"
   ]
  },
  {
   "cell_type": "code",
   "execution_count": 21,
   "metadata": {},
   "outputs": [
    {
     "name": "stdout",
     "output_type": "stream",
     "text": [
      "MSE:  1209669362.9432888\n",
      "RMSE:  604834681.4716444\n"
     ]
    }
   ],
   "source": [
    "#RMSE and MSE\n",
    "from sklearn.metrics import mean_squared_error\n",
    "\n",
    "y2_pred = model2.predict(X_test2)\n",
    "mse_model2 = mean_squared_error(y_test2, y2_pred)\n",
    "print(\"MSE: \", mse_model2)\n",
    "print(\"RMSE: \", mse_model2*(1/2.0))"
   ]
  },
  {
   "cell_type": "code",
   "execution_count": 23,
   "metadata": {},
   "outputs": [
    {
     "name": "stdout",
     "output_type": "stream",
     "text": [
      "MSE:  0.18331439275571318\n",
      "RMSE:  0.09165719637785659\n"
     ]
    }
   ],
   "source": [
    "#NORMALIZED RMSE and MSE\n",
    "a=(y_test2-np.mean(y_test2))/np.std(y_test2)\n",
    "b=(y2_pred-np.mean(y2_pred))/np.std(y2_pred)\n",
    "\n",
    "mse_model2 = mean_squared_error(a, b)\n",
    "print(\"MSE - normalized: \", mse_model2)\n",
    "print(\"RMSE - normalized: \", mse_model2*(1/2.0))\n"
   ]
  },
  {
   "cell_type": "markdown",
   "metadata": {},
   "source": [
    "**TUNUNG MODEL HYPERPARAMETERS - RANDOMIZED SEARCH (ON TRAINING DATASET)**"
   ]
  },
  {
   "cell_type": "code",
   "execution_count": 30,
   "metadata": {},
   "outputs": [
    {
     "name": "stdout",
     "output_type": "stream",
     "text": [
      "{'bootstrap': True, 'ccp_alpha': 0.0, 'criterion': 'mse', 'max_depth': None, 'max_features': 'auto', 'max_leaf_nodes': None, 'max_samples': None, 'min_impurity_decrease': 0.0, 'min_impurity_split': None, 'min_samples_leaf': 1, 'min_samples_split': 2, 'min_weight_fraction_leaf': 0.0, 'n_estimators': 100, 'n_jobs': None, 'oob_score': False, 'random_state': None, 'verbose': 0, 'warm_start': False}\n"
     ]
    }
   ],
   "source": [
    "print(model2.get_params())"
   ]
  },
  {
   "cell_type": "code",
   "execution_count": 45,
   "metadata": {},
   "outputs": [
    {
     "name": "stdout",
     "output_type": "stream",
     "text": [
      "{'bootstrap': False, 'max_depth': None, 'max_features': 3, 'min_samples_split': 7, 'n_estimators': 408}\n"
     ]
    }
   ],
   "source": [
    "from sklearn.model_selection import RandomizedSearchCV\n",
    "from scipy.stats import randint as sp_randint\n",
    "\n",
    "# creating parameter distribution\n",
    "param_dist = {\"max_depth\": [3, None],\n",
    "              \"max_features\": sp_randint(1, X_train2.shape[1]),\n",
    "              \"min_samples_split\": sp_randint(2, 11),\n",
    "              \"bootstrap\": [True, False],\n",
    "              \"n_estimators\": sp_randint(100, 500)}\n",
    "\n",
    "random_search = RandomizedSearchCV(model2, param_distributions=param_dist,\n",
    "                                   n_iter=10, cv=5, random_state=42)\n",
    "random_search.fit(X_train2, y_train2)\n",
    "                  \n",
    "print(random_search.best_params_)\n",
    "\n",
    "#{'bootstrap': False, 'max_depth': None, 'max_features': 4, 'min_samples_split': 7, 'n_estimators': 485}\n",
    "\n",
    "\n",
    "#    n_estimators = number of trees in the foreset\n",
    "#    max_features = max number of features considered for splitting a node\n",
    "#    max_depth = max number of levels in each decision tree\n",
    "#    min_samples_split = min number of data points placed in a node before the node is split\n",
    "#    min_samples_leaf = min number of data points allowed in a leaf node\n",
    "#    bootstrap = method for sampling data points (with or without replacement)\n"
   ]
  },
  {
   "cell_type": "markdown",
   "metadata": {},
   "source": [
    "**TUNED MODEL - PERFORMANCE ON TESTING DATASET**"
   ]
  },
  {
   "cell_type": "code",
   "execution_count": 44,
   "metadata": {},
   "outputs": [
    {
     "name": "stdout",
     "output_type": "stream",
     "text": [
      "R-squared model2 (TEST DATA): 0.8430690310360147\n",
      "MSE - normalized:  0.15722096195776158\n",
      "RMSE - normalized:  0.07861048097888079\n"
     ]
    }
   ],
   "source": [
    "from sklearn.metrics import explained_variance_score\n",
    "\n",
    "#checking model with best parameters\n",
    "y_preds = random_search.predict(X_test2)\n",
    "print(\"R-squared model2 (TEST DATA):\", explained_variance_score(y_test2, y_preds))\n",
    "\n",
    "\n",
    "#NORMALIZED RMSE and MSE\n",
    "a=(y_test2-np.mean(y_test2))/np.std(y_test2)\n",
    "b=(y_preds-np.mean(y_preds))/np.std(y_preds)\n",
    "\n",
    "mse_model2 = mean_squared_error(a, b)\n",
    "print(\"MSE - normalized: \", mse_model2)\n",
    "print(\"RMSE - normalized: \", mse_model2*(1/2.0))\n",
    "\n"
   ]
  },
  {
   "cell_type": "markdown",
   "metadata": {},
   "source": [
    "**PLOT SHOWING PREDICTIONS**"
   ]
  },
  {
   "cell_type": "code",
   "execution_count": 51,
   "metadata": {},
   "outputs": [
    {
     "data": {
      "image/png": "[encoded data removed]",
      "text/plain": [
       "<Figure size 432x288 with 1 Axes>"
      ]
     },
     "metadata": {
      "needs_background": "light"
     },
     "output_type": "display_data"
    }
   ],
   "source": [
    "import matplotlib.pyplot as plt\n",
    "\n",
    "x_ax = range(len(y_test2))\n",
    "plt.plot(x_ax, y_test2, linewidth=1, label=\"original\")\n",
    "plt.plot(x_ax, y_preds, linewidth=1.1, label=\"predicted\")\n",
    "plt.title(\"Housing prices - random forest predictions\")\n",
    "plt.xlabel('Observations - testing dataset')\n",
    "plt.ylabel('Price')\n",
    "plt.legend(loc='best',fancybox=True, shadow=True)\n",
    "plt.grid(True)\n",
    "plt.show()"
   ]
  },
  {
   "cell_type": "code",
   "execution_count": null,
   "metadata": {},
   "outputs": [],
   "source": []
  }
 ],
 "metadata": {
  "kernelspec": {
   "display_name": "Python 3",
   "language": "python",
   "name": "python3"
  },
  "language_info": {
   "codemirror_mode": {
    "name": "ipython",
    "version": 3
   },
   "file_extension": ".py",
   "mimetype": "text/x-python",
   "name": "python",
   "nbconvert_exporter": "python",
   "pygments_lexer": "ipython3",
   "version": "3.8.5"
  }
 },
 "nbformat": 4,
 "nbformat_minor": 4
}
